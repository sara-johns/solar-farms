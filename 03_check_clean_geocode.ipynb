{
 "cells": [
  {
   "cell_type": "markdown",
   "id": "766ef120",
   "metadata": {},
   "source": [
    "## Check and clean solar farm geocoding\n",
    "\n",
    "Sara Johns\n",
    "\n",
    "sjohns@berkeley.edu\n",
    "\n",
    "9/20/21"
   ]
  },
  {
   "cell_type": "markdown",
   "id": "ef91e303",
   "metadata": {},
   "source": [
    "### Set up"
   ]
  },
  {
   "cell_type": "code",
   "execution_count": null,
   "id": "c2766905",
   "metadata": {},
   "outputs": [],
   "source": [
    "# Import libraries\n",
    "import pandas as pd\n",
    "import numpy as np\n",
    "\n",
    "# Data directory\n",
    "data_path = '/Users/sarajohns/Google Drive/My Drive/Farmers_Solar/data/ipa_lottery/processed/'\n",
    "\n",
    "# Read in geocoded data\n",
    "grA_geo = pd.read_csv(data_path + 'group_a_addresses_geocoded.csv')\n",
    "grB_geo = pd.read_csv(data_path + 'group_b_addresses_geocoded.csv')\n",
    "\n",
    "# Read in pre-geocoded info\n",
    "grA_pregeo = pd.read_csv(data_path + 'group_a_addresses.csv')\n",
    "grB_pregeo = pd.read_csv(data_path + 'group_b_addresses.csv')"
   ]
  },
  {
   "cell_type": "markdown",
   "id": "e8d08b56",
   "metadata": {},
   "source": [
    "### Merge geocoded data with other info"
   ]
  },
  {
   "cell_type": "code",
   "execution_count": null,
   "id": "87912689",
   "metadata": {},
   "outputs": [],
   "source": [
    "# Rows numbers are the same so just combine columns\n",
    "grA = pd.concat([grA_geo.reset_index(drop=True), grA_pregeo], axis=1)\n",
    "grB = pd.concat([grB_geo.reset_index(drop=True), grB_pregeo], axis=1)\n",
    "\n",
    "# Check that rows are matched correctly\n",
    "grA['input_string'].equals(grA['clean_add'])"
   ]
  },
  {
   "cell_type": "code",
   "execution_count": null,
   "id": "a20b9e42",
   "metadata": {},
   "outputs": [],
   "source": [
    "grB['input_string'].equals(grB['clean_add'])"
   ]
  },
  {
   "cell_type": "markdown",
   "id": "c6038c86",
   "metadata": {},
   "source": [
    "### Examine accuracy of geocoding"
   ]
  },
  {
   "cell_type": "code",
   "execution_count": null,
   "id": "1373ef68",
   "metadata": {},
   "outputs": [],
   "source": [
    "# How many failed? Group A\n",
    "pd.crosstab(index = grA['status'], columns = 'count')"
   ]
  },
  {
   "cell_type": "code",
   "execution_count": null,
   "id": "cd6a4e29",
   "metadata": {
    "scrolled": true
   },
   "outputs": [],
   "source": [
    "# How many failed? Group B\n",
    "pd.crosstab(index = grB['status'], columns = 'count') "
   ]
  },
  {
   "cell_type": "markdown",
   "id": "02192f4f",
   "metadata": {},
   "source": [
    "Not many failed, so we can try to manually collect those. (Sometimes these are parcel pins that we can look up)."
   ]
  },
  {
   "cell_type": "code",
   "execution_count": null,
   "id": "6658aba4",
   "metadata": {},
   "outputs": [],
   "source": [
    "# How accurate? Group A\n",
    "pd.crosstab(index = grA['accuracy'], columns = 'count') "
   ]
  },
  {
   "cell_type": "code",
   "execution_count": null,
   "id": "c6f72b82",
   "metadata": {},
   "outputs": [],
   "source": [
    "# How accurate? Group B\n",
    "pd.crosstab(index = grB['accuracy'], columns = 'count')"
   ]
  },
  {
   "cell_type": "markdown",
   "id": "0d0ff33a",
   "metadata": {},
   "source": [
    "Range interpolated and approximate are not very accurate. We might be able to collect a better location manually, but that will mean manually checking 300+ entries."
   ]
  }
 ],
 "metadata": {
  "kernelspec": {
   "display_name": "py38",
   "language": "python",
   "name": "py38"
  },
  "language_info": {
   "codemirror_mode": {
    "name": "ipython",
    "version": 3
   },
   "file_extension": ".py",
   "mimetype": "text/x-python",
   "name": "python",
   "nbconvert_exporter": "python",
   "pygments_lexer": "ipython3",
   "version": "3.8.8"
  }
 },
 "nbformat": 4,
 "nbformat_minor": 5
}
