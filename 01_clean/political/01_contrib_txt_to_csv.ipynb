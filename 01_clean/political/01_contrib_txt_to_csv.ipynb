{
 "cells": [
  {
   "cell_type": "markdown",
   "metadata": {},
   "source": [
    "## Convert contributions txt file into csv\n",
    "Also filter out relevant years\n",
    "\n",
    "Sara Johns\n",
    "\n",
    "Created: 04/13/2023\n",
    "\n",
    "Last modified: 04/13/2023"
   ]
  },
  {
   "cell_type": "code",
   "execution_count": null,
   "metadata": {},
   "outputs": [],
   "source": [
    "# Set up\n",
    "\n",
    "# Import libraries\n",
    "import pandas as pd\n",
    "import numpy as np\n",
    "\n",
    "# Data directory\n",
    "data_path = '/Users/sarajohns/Google Drive/My Drive/Farmers_Solar/data/Political/raw/'\n",
    "write_path = '/Users/sarajohns/Google Drive/My Drive/Farmers_Solar/data/Political/processed/'"
   ]
  },
  {
   "cell_type": "markdown",
   "metadata": {},
   "source": [
    "### Read in and format campaign contributions (receipts)"
   ]
  },
  {
   "cell_type": "code",
   "execution_count": null,
   "metadata": {},
   "outputs": [],
   "source": [
    "# Read in contributions\n",
    "# Specify columns because of inconsistencies in the file format\n",
    "colnames = ['ID', 'CommitteeID', 'FiledDocID', 'ETransID', 'LastOnlyName', 'FirstName', \n",
    "         'RcvDate', 'Amount', 'AggregateAmount', 'LoanAmount', 'Occupation', 'Employer', \n",
    "         'Address1', 'Address2', 'City', 'State', 'Zip', 'D2Part', 'Description', \n",
    "         'VendorLastOnlyName', 'VendorFirstName', 'VendorAddress1', 'VendorAddress2', \n",
    "         'VendorCity', 'VendorState', 'VendorZip', 'Archived', 'Country', 'RedactionRequested']\n",
    "contribs = pd.read_csv(data_path + 'ILReceipts.txt', delimiter= '\\t', names = colnames, low_memory=False)\n",
    "\n",
    "# Then need to drop first row which also has column names\n",
    "contribs = contribs.tail(-1)\n",
    "\n",
    "# Make date object\n",
    "contribs['RcvDate'] = pd.to_datetime(contribs['RcvDate'], errors = 'coerce')\n",
    "# Get years\n",
    "contribs['Year'] = contribs['RcvDate'].dt.year\n",
    "\n",
    "# Filter out years after 2000 (probably will use later than that, but keep more than needed for now)\n",
    "contribs2000 = contribs.loc[contribs['Year'] > 1999,]"
   ]
  },
  {
   "cell_type": "markdown",
   "metadata": {},
   "source": [
    "### Read in other data"
   ]
  },
  {
   "cell_type": "code",
   "execution_count": null,
   "metadata": {},
   "outputs": [],
   "source": [
    "# Read in committees data\n",
    "cmte = pd.read_csv(data_path + 'ILCommittees.txt', delimiter= '\\t', low_memory=False)\n",
    "# Read in committee candidate links\n",
    "cmte_can_cw = pd.read_csv(data_path + 'ILCmteCandidateLinks.txt', delimiter= '\\t', low_memory=False)\n",
    "# Read in candidates\n",
    "can = pd.read_csv(data_path + 'ILCandidates.txt', delimiter= '\\t', low_memory=False)"
   ]
  },
  {
   "cell_type": "markdown",
   "metadata": {},
   "source": [
    "### Write datasets to csvs"
   ]
  },
  {
   "cell_type": "code",
   "execution_count": null,
   "metadata": {},
   "outputs": [],
   "source": [
    "# Write all as csvs\n",
    "contribs2000.to_csv(write_path + 'ILReceipts_2000.csv', index=False)\n",
    "cmte.to_csv(write_path + 'ILCommittees.csv', index=False)\n",
    "cmte_can_cw.to_csv(write_path + 'ILCmteCandidateLinks.csv', index=False)\n",
    "can.to_csv(write_path + 'ILCandidates.csv', index=False)"
   ]
  }
 ],
 "metadata": {
  "kernelspec": {
   "display_name": "py38",
   "language": "python",
   "name": "py38"
  },
  "language_info": {
   "codemirror_mode": {
    "name": "ipython",
    "version": 3
   },
   "file_extension": ".py",
   "mimetype": "text/x-python",
   "name": "python",
   "nbconvert_exporter": "python",
   "pygments_lexer": "ipython3",
   "version": "3.8.8"
  }
 },
 "nbformat": 4,
 "nbformat_minor": 5
}
