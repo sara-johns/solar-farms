{
 "cells": [
  {
   "cell_type": "markdown",
   "id": "85b21943",
   "metadata": {},
   "source": [
    "### Merge lottery with completed projects\n",
    " \n",
    "Sara Johns\n",
    "\n",
    "Date created: 04/19/2023\n",
    "\n",
    "Date last modified: 05/10/2023"
   ]
  },
  {
   "cell_type": "code",
   "execution_count": null,
   "id": "d3d4a2f2",
   "metadata": {},
   "outputs": [],
   "source": [
    "# Set up\n",
    "\n",
    "# Import libraries\n",
    "import pandas as pd\n",
    "import numpy as np\n",
    "import geopandas\n",
    "\n",
    "# Data directory\n",
    "data_path = '/Users/sarajohns/Google Drive/My Drive/Farmers_Solar/data/'\n",
    "\n",
    "# Read in geocoded lottery data\n",
    "lottery = pd.read_csv(data_path + 'ipa_lottery/processed/final_lottery_locations.csv')\n",
    "\n",
    "# Read in completed projects\n",
    "complete = pd.read_excel(data_path + 'ipa_lottery/raw/PartII_Application_Completed_Projects.xlsx', header = 0,\n",
    "                        usecols = \"A:AC\")"
   ]
  },
  {
   "cell_type": "code",
   "execution_count": null,
   "id": "10e11385",
   "metadata": {},
   "outputs": [],
   "source": [
    "# Clean completed projects data\n",
    "\n",
    "# Keep only community solar (drop distributed generation)\n",
    "complete_cs = complete.loc[complete['Category']=='CS',].copy()\n",
    "# Add completed indicator\n",
    "complete_cs['completed'] = 1\n",
    "\n",
    "# Format to get town slightly different for addresses with actual address vs lat lon\n",
    "regex = r\"^(?:.*,)?\\s*(.*?),\\s*[A-Z]{2},?\\s*\\d{5}$\"\n",
    "lottery['town1'] = lottery['Address'].str.extract(regex)\n",
    "lottery.loc[lottery['town1'].isna(), 'town1'] = lottery['town'].str[:-5]"
   ]
  },
  {
   "cell_type": "code",
   "execution_count": null,
   "id": "2aaf547b",
   "metadata": {},
   "outputs": [],
   "source": [
    "# Merge on application ID\n",
    "complete_lottery = pd.merge(lottery, complete_cs, on = 'Application ID', how = 'outer')\n",
    "# Create completed/win variables\n",
    "complete_lottery['completed'] = complete_lottery['completed'].fillna(0)\n",
    "complete_lottery.loc[complete_lottery['Lottery Status']=='Accepted', 'win'] = 1\n",
    "complete_lottery.loc[complete_lottery['Lottery Status']=='Waitlist', 'win'] = 0"
   ]
  },
  {
   "cell_type": "code",
   "execution_count": null,
   "id": "f784a880",
   "metadata": {
    "scrolled": true
   },
   "outputs": [],
   "source": [
    "# How many completed by group?\n",
    "complete_lottery.groupby(['win', 'completed']).size()"
   ]
  },
  {
   "cell_type": "markdown",
   "id": "9e3c8e78",
   "metadata": {},
   "source": [
    "91 of the winning solar farms are completed and 21 winning solar farms are not completed. 5 waitlisted solar farms were completed."
   ]
  },
  {
   "cell_type": "code",
   "execution_count": null,
   "id": "030cf526",
   "metadata": {},
   "outputs": [],
   "source": [
    "complete_lottery.loc[complete_lottery['completed']==1, 'County'].unique()"
   ]
  },
  {
   "cell_type": "code",
   "execution_count": null,
   "id": "d527145e",
   "metadata": {},
   "outputs": [],
   "source": [
    "complete_lottery.loc[complete_lottery['completed']==1, 'City'].unique()"
   ]
  },
  {
   "cell_type": "code",
   "execution_count": null,
   "id": "2c79f438",
   "metadata": {},
   "outputs": [],
   "source": [
    "complete_lottery.loc[complete_lottery['completed']==1, 'Counterparty Utility'].unique()"
   ]
  },
  {
   "cell_type": "markdown",
   "id": "dbd5a7c0",
   "metadata": {},
   "source": [
    "Completed projects in 35 counties, 69 cities, and all in Ameren or ComEd."
   ]
  }
 ],
 "metadata": {
  "kernelspec": {
   "display_name": "py38",
   "language": "python",
   "name": "py38"
  },
  "language_info": {
   "codemirror_mode": {
    "name": "ipython",
    "version": 3
   },
   "file_extension": ".py",
   "mimetype": "text/x-python",
   "name": "python",
   "nbconvert_exporter": "python",
   "pygments_lexer": "ipython3",
   "version": "3.8.8"
  }
 },
 "nbformat": 4,
 "nbformat_minor": 5
}
