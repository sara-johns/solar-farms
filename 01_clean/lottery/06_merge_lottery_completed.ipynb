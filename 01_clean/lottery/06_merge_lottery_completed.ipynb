{
 "cells": [
  {
   "cell_type": "markdown",
   "id": "85b21943",
   "metadata": {},
   "source": [
    "### Merge lottery with completed projects\n",
    " \n",
    "Sara Johns\n",
    "\n",
    "Date created: 04/19/2023\n",
    "\n",
    "Date last modified: 04/19/2023"
   ]
  },
  {
   "cell_type": "code",
   "execution_count": null,
   "id": "d3d4a2f2",
   "metadata": {},
   "outputs": [],
   "source": [
    "# Set up\n",
    "\n",
    "# Import libraries\n",
    "import pandas as pd\n",
    "import numpy as np\n",
    "import geopandas\n",
    "\n",
    "# Data directory\n",
    "data_path = '/Users/sarajohns/Google Drive/My Drive/Farmers_Solar/data/'\n",
    "\n",
    "# Read in geocoded lottery data\n",
    "lottery = pd.read_csv(data_path + 'ipa_lottery/processed/final_lottery_locations.csv')\n",
    "\n",
    "# Read in completed projects\n",
    "complete = pd.read_excel(data_path + 'ipa_lottery/raw/PartII_Application_Completed_Projects.xlsx', header = 0,\n",
    "                        usecols = \"A:AC\")"
   ]
  },
  {
   "cell_type": "code",
   "execution_count": null,
   "id": "10e11385",
   "metadata": {},
   "outputs": [],
   "source": [
    "# Clean completed projects data\n",
    "\n",
    "# Keep only community solar (drop distributed generation)\n",
    "complete_cs = complete.loc[complete['Category']=='CS',]"
   ]
  }
 ],
 "metadata": {
  "kernelspec": {
   "display_name": "py38",
   "language": "python",
   "name": "py38"
  },
  "language_info": {
   "codemirror_mode": {
    "name": "ipython",
    "version": 3
   },
   "file_extension": ".py",
   "mimetype": "text/x-python",
   "name": "python",
   "nbconvert_exporter": "python",
   "pygments_lexer": "ipython3",
   "version": "3.8.8"
  }
 },
 "nbformat": 4,
 "nbformat_minor": 5
}
