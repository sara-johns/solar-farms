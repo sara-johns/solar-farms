{
 "cells": [
  {
   "cell_type": "markdown",
   "id": "608d685a",
   "metadata": {},
   "source": [
    "Index: 02\n",
    "\n",
    "Date: 2021/11/08"
   ]
  },
  {
   "cell_type": "code",
   "execution_count": 1,
   "id": "fcd19e60",
   "metadata": {},
   "outputs": [],
   "source": [
    "import pandas as pd\n",
    "import numpy as np\n",
    "import geopandas\n",
    "import shapely\n",
    "from geopandas.tools import sjoin\n",
    "from os import listdir"
   ]
  },
  {
   "cell_type": "code",
   "execution_count": 2,
   "id": "d1dcf5b0",
   "metadata": {},
   "outputs": [],
   "source": [
    "# Import farm coordinates from the excel file as a dataframe.\n",
    "farm_coordinates = pd.read_excel('group_a_addresses_geocoded_manual_updates.xlsx', index_col=0)\n",
    "\n",
    "# Change the points dataframe to a GeoDataFrame with geometry given by longitude and latitude variables.\n",
    "point_all = geopandas.GeoDataFrame(\n",
    "    farm_coordinates, \n",
    "    geometry=geopandas.points_from_xy(farm_coordinates.longitude, farm_coordinates.latitude))\n",
    "\n",
    "# Set Coordinate Reference System (CRS) to be epsg:4326, or the WGS84 latitude-longitude projection.\n",
    "point_all = point_all.set_crs(epsg=4326)"
   ]
  },
  {
   "cell_type": "code",
   "execution_count": 4,
   "id": "0b71c6f7",
   "metadata": {},
   "outputs": [],
   "source": [
    "def merge_point_poly(poly_file_path, point_all):\n",
    "    \"\"\"\n",
    "    Find polygons that have at least a target point inside their boundaries.\n",
    "    Input: poly_file_path: str, file path of the shapefile of polygons.\n",
    "           point_all: GeoDataFrame, GeoDataFrame of points.\n",
    "    Output: GeoDataFrame, GeoDataFrame of polygons that has at least one target point inside.\n",
    "    \"\"\"\n",
    "    # Construct a GeoDataFrame of polygons from the shapefile.\n",
    "    poly = geopandas.GeoDataFrame.from_file(poly_file_path)\n",
    "    # Transform all geometries in a point_all to crs of the polygon shapfile. \n",
    "    point = point_all.to_crs(poly.crs)\n",
    "    # Spatial join of point and poly, and keep geometry of poly as the geometry of the new shapefile.\n",
    "    # (It only keeps the geometry from the left GeoDataFrame. \n",
    "    pointPolys = sjoin(poly, point, how='inner')\n",
    "    # Select those entries without nan.\n",
    "    # pointPolys[~(pointPolys.index_left.isna())]\n",
    "    return pointPolys"
   ]
  },
  {
   "cell_type": "code",
   "execution_count": 7,
   "id": "eb74bde7",
   "metadata": {},
   "outputs": [],
   "source": [
    "point_county = merge_point_poly('cb_2018_us_county_500k/cb_2018_us_county_500k.shp', point_all)"
   ]
  },
  {
   "cell_type": "code",
   "execution_count": 9,
   "id": "250dae83",
   "metadata": {},
   "outputs": [],
   "source": [
    "# Import county level yields\n"
   ]
  },
  {
   "cell_type": "code",
   "execution_count": null,
   "id": "5c20d537",
   "metadata": {},
   "outputs": [],
   "source": []
  }
 ],
 "metadata": {
  "kernelspec": {
   "display_name": "Python 3",
   "language": "python",
   "name": "python3"
  },
  "language_info": {
   "codemirror_mode": {
    "name": "ipython",
    "version": 3
   },
   "file_extension": ".py",
   "mimetype": "text/x-python",
   "name": "python",
   "nbconvert_exporter": "python",
   "pygments_lexer": "ipython3",
   "version": "3.8.8"
  }
 },
 "nbformat": 4,
 "nbformat_minor": 5
}
