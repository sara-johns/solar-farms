{
 "cells": [
  {
   "cell_type": "markdown",
   "id": "766ef120",
   "metadata": {},
   "source": [
    "## Check and clean solar farm geocoding\n",
    "\n",
    "Sara Johns\n",
    "\n",
    "sjohns@berkeley.edu\n",
    "\n",
    "11/11/21"
   ]
  },
  {
   "cell_type": "markdown",
   "id": "ef91e303",
   "metadata": {},
   "source": [
    "### Set up"
   ]
  },
  {
   "cell_type": "code",
   "execution_count": null,
   "id": "c2766905",
   "metadata": {},
   "outputs": [],
   "source": [
    "# Import libraries\n",
    "import pandas as pd\n",
    "import numpy as np\n",
    "\n",
    "# Data directory\n",
    "data_path = '/Users/sarajohns/Google Drive/My Drive/Farmers_Solar/data/ipa_lottery/processed/'\n",
    "\n",
    "# Read in geocoded data\n",
    "grA_geo = pd.read_csv(data_path + 'group_a_addresses_geocoded_manual_updates.csv')\n",
    "grB_geo = pd.read_csv(data_path + 'group_b_addresses_geocoded_manual_updates.csv')\n",
    "\n",
    "# Read in pre-geocoded info\n",
    "grA_pregeo = pd.read_csv(data_path + 'group_a_addresses.csv')\n",
    "grB_pregeo = pd.read_csv(data_path + 'group_b_addresses.csv')"
   ]
  },
  {
   "cell_type": "markdown",
   "id": "e8d08b56",
   "metadata": {},
   "source": [
    "### Merge geocoded data with other info"
   ]
  },
  {
   "cell_type": "code",
   "execution_count": null,
   "id": "87912689",
   "metadata": {},
   "outputs": [],
   "source": [
    "# Rows numbers are the same so just combine columns\n",
    "grA = pd.concat([grA_geo.reset_index(drop=True), grA_pregeo], axis=1)\n",
    "grB = pd.concat([grB_geo.reset_index(drop=True), grB_pregeo], axis=1)\n",
    "\n",
    "# Check that rows are matched correctly\n",
    "grA['input_string'].equals(grA['clean_add'])"
   ]
  },
  {
   "cell_type": "code",
   "execution_count": null,
   "id": "a20b9e42",
   "metadata": {},
   "outputs": [],
   "source": [
    "grB['input_string'].equals(grB['clean_add'])"
   ]
  },
  {
   "cell_type": "markdown",
   "id": "c6038c86",
   "metadata": {},
   "source": [
    "### Examine accuracy of geocoding"
   ]
  },
  {
   "cell_type": "code",
   "execution_count": null,
   "id": "1373ef68",
   "metadata": {},
   "outputs": [],
   "source": [
    "# How many failed? Group A\n",
    "pd.crosstab(index = grA['status'], columns = 'count')"
   ]
  },
  {
   "cell_type": "code",
   "execution_count": null,
   "id": "cd6a4e29",
   "metadata": {
    "scrolled": true
   },
   "outputs": [],
   "source": [
    "# How many failed? Group B\n",
    "pd.crosstab(index = grB['status'], columns = 'count') "
   ]
  },
  {
   "cell_type": "markdown",
   "id": "02192f4f",
   "metadata": {},
   "source": [
    "Not many failed, so we can try to manually collect those. (Sometimes these are parcel pins that we can look up)."
   ]
  },
  {
   "cell_type": "code",
   "execution_count": null,
   "id": "6658aba4",
   "metadata": {},
   "outputs": [],
   "source": [
    "# How accurate? Group A\n",
    "pd.crosstab(index = grA['accuracy'], columns = 'count') "
   ]
  },
  {
   "cell_type": "code",
   "execution_count": null,
   "id": "c6f72b82",
   "metadata": {},
   "outputs": [],
   "source": [
    "# How accurate? Group B\n",
    "pd.crosstab(index = grB['accuracy'], columns = 'count')"
   ]
  },
  {
   "cell_type": "markdown",
   "id": "0d0ff33a",
   "metadata": {},
   "source": [
    "Range interpolated and approximate are not very accurate. So we went back to manually check those. Some were parcel pins we could look up, some were addresses that needed slight updating for Google to find the right location. But others were only streets that map to many farms. These we cannot use."
   ]
  },
  {
   "cell_type": "code",
   "execution_count": null,
   "id": "0993d744",
   "metadata": {},
   "outputs": [],
   "source": [
    "# Combine group A and group B in to one table\n",
    "grA['group'] = \"A\"\n",
    "grB['group'] = \"B\"\n",
    "\n",
    "all_loc = pd.concat([grA.reset_index(drop=True), grB])"
   ]
  },
  {
   "cell_type": "code",
   "execution_count": null,
   "id": "a51325c9",
   "metadata": {},
   "outputs": [],
   "source": [
    "# Combine manually updated lat/lon and google geocoded lat/lon\n",
    "all_loc['lat'] = all_loc['man_latitude']\n",
    "all_loc['lat'] = all_loc['lat'].fillna(all_loc['latitude'])\n",
    "\n",
    "all_loc['lon'] = all_loc['man_longitude']\n",
    "all_loc['lon'] = all_loc['lon'].fillna(all_loc['longitude'])\n",
    "\n",
    "# Replace lat/lon as NA if maps to many\n",
    "all_loc['lat'] = all_loc.apply(lambda x: None if x['check_note']==\"maps_to_many\" else x['lat'], axis=1)\n",
    "all_loc['lon'] = all_loc.apply(lambda x: None if x['check_note']==\"maps_to_many\" else x['lon'], axis=1)\n",
    "\n",
    "# Make indicator for manually updated\n",
    "all_loc['man_update'] = 1 - all_loc['man_latitude'].isna().astype(int)\n",
    "all_loc['man_update'] = all_loc.apply(lambda x: 1 if x['check_note']==\"maps_to_many\" else x['man_update'], axis=1)\n",
    "\n",
    "# Select columns we want\n",
    "all_loc = all_loc[['Application ID',\n",
    "                   'Project Name',\n",
    "                   'Name of Approved Vendor',\n",
    "                   'group',\n",
    "                   'lat',\n",
    "                   'lon',\n",
    "                   'Size (kW AC)',\n",
    "                   'Address',\n",
    "                   'Ordinal',\n",
    "                   'Lottery Status',\n",
    "                   'Block',\n",
    "                   'Queue Number',\n",
    "                   'Small Subscribers',\n",
    "                   'formatted_address', \n",
    "                   'accuracy', \n",
    "                   'type',  \n",
    "                   'clean_add',\n",
    "                   'man_update']]"
   ]
  },
  {
   "cell_type": "markdown",
   "id": "f22622c4",
   "metadata": {},
   "source": [
    "Now we need to bring in the lottery applicants that listed a lat/lon rather than an address."
   ]
  },
  {
   "cell_type": "code",
   "execution_count": null,
   "id": "8318eaa6",
   "metadata": {},
   "outputs": [],
   "source": [
    "# Read in projects that listed coordinates instead of addresses\n",
    "grA_pt = pd.read_csv(data_path + 'group_a_coordinates.csv')\n",
    "grB_pt = pd.read_csv(data_path + 'group_b_coordinates.csv')\n",
    "\n",
    "# Add group identifier\n",
    "grA_pt['group'] = \"A\"\n",
    "grB_pt['group'] = \"B\""
   ]
  },
  {
   "cell_type": "code",
   "execution_count": null,
   "id": "d8ef748c",
   "metadata": {},
   "outputs": [],
   "source": [
    "# Append points to other data\n",
    "all_loc = all_loc.append(pd.DataFrame(data = grA_pt), ignore_index=True)\n",
    "all_loc = all_loc.append(pd.DataFrame(data = grB_pt), ignore_index=True)"
   ]
  },
  {
   "cell_type": "code",
   "execution_count": null,
   "id": "5f5a6ece",
   "metadata": {},
   "outputs": [],
   "source": [
    "# Save final dataset\n",
    "all_loc.to_csv(data_path + 'final_lottery_locations.csv')"
   ]
  }
 ],
 "metadata": {
  "kernelspec": {
   "display_name": "py38",
   "language": "python",
   "name": "py38"
  },
  "language_info": {
   "codemirror_mode": {
    "name": "ipython",
    "version": 3
   },
   "file_extension": ".py",
   "mimetype": "text/x-python",
   "name": "python",
   "nbconvert_exporter": "python",
   "pygments_lexer": "ipython3",
   "version": "3.8.8"
  }
 },
 "nbformat": 4,
 "nbformat_minor": 5
}
