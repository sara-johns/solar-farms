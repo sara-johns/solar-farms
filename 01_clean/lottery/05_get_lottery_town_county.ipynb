{
 "cells": [
  {
   "cell_type": "markdown",
   "id": "7e3b8287",
   "metadata": {},
   "source": [
    "### Creat a CSV with county, town of each solar farm in lottery\n",
    " \n",
    "Sara Johns\n",
    "\n",
    "Date created: 03/13/2023\n",
    "\n",
    "Date last modified: 03/13/2023"
   ]
  },
  {
   "cell_type": "code",
   "execution_count": null,
   "id": "1d05069b",
   "metadata": {},
   "outputs": [],
   "source": [
    "# Set up\n",
    "\n",
    "# Import libraries\n",
    "import pandas as pd\n",
    "import numpy as np\n",
    "import geopandas\n",
    "\n",
    "# Data directory\n",
    "data_path = '/Users/sarajohns/Google Drive/My Drive/Farmers_Solar/data/'\n",
    "\n",
    "# Read in geocoded lottery data\n",
    "lottery = pd.read_csv(data_path + 'ipa_lottery/processed/final_lottery_locations.csv')"
   ]
  },
  {
   "cell_type": "markdown",
   "id": "c8dc6c5b",
   "metadata": {},
   "source": [
    "### Get clean town and zip code using regular expressions"
   ]
  },
  {
   "cell_type": "code",
   "execution_count": null,
   "id": "52f5d72e",
   "metadata": {},
   "outputs": [],
   "source": [
    "# Zip code is always last 5 numbers in address\n",
    "lottery['zip'] = lottery['Address'].str[-5:]\n",
    "\n",
    "# Format to get town slightly different for addresses with actual address vs lat lon\n",
    "regex = r\"^(?:.*,)?\\s*(.*?),\\s*[A-Z]{2},?\\s*\\d{5}$\"\n",
    "lottery['town1'] = lottery['Address'].str.extract(regex)\n",
    "lottery.loc[lottery['town1'].isna(), 'town1'] = lottery['town'].str[:-5]"
   ]
  },
  {
   "cell_type": "markdown",
   "id": "6b735268",
   "metadata": {},
   "source": [
    "### Map to county"
   ]
  },
  {
   "cell_type": "code",
   "execution_count": null,
   "id": "93968cde",
   "metadata": {},
   "outputs": [],
   "source": [
    "# Make lottery geopandas object\n",
    "lot_loc = geopandas.GeoDataFrame(lottery, \n",
    "                                 geometry=geopandas.points_from_xy(lottery.lon, lottery.lat))\n",
    "\n",
    "\n",
    "# Get county shapefiles\n",
    "county = geopandas.GeoDataFrame.from_file(data_path + 'shapefile/IL_BNDY_County/IL_BNDY_County_Py.shp')\n",
    "\n",
    "# Set CRS of lottery points to same as county shapefile\n",
    "lot_loc = lot_loc.set_crs(county.crs)\n",
    "\n",
    "# Spatial join: lottery points to counties\n",
    "lot_county = geopandas.sjoin(county, lot_loc, how='inner')\n",
    "\n",
    "# Not all join- some missing lat/lon, some lat/lon outside boundary\n",
    "# Keep just application number and county and merge to lottery table\n",
    "lot_county_small = lot_county[['Application ID', 'COUNTY_NAM']]\n",
    "\n",
    "# Merge to original lottery table\n",
    "lottery_merge = pd.merge(lottery, lot_county_small, on = ['Application ID'], how = 'outer')"
   ]
  },
  {
   "cell_type": "markdown",
   "id": "d3a59a9b",
   "metadata": {},
   "source": [
    "### Get counties from zip code for ones where we are missing lat/lon"
   ]
  },
  {
   "cell_type": "code",
   "execution_count": null,
   "id": "420b1de2",
   "metadata": {},
   "outputs": [],
   "source": [
    "# read in data\n",
    "zip_county_cw = pd.read_excel(data_path + 'HUD/ZIP_COUNTY_062019.xlsx')"
   ]
  },
  {
   "cell_type": "code",
   "execution_count": null,
   "id": "8b03a8be",
   "metadata": {},
   "outputs": [],
   "source": [
    "# format variables\n",
    "zip_county_cw['zip'] = zip_county_cw['zip'].astype(str)"
   ]
  },
  {
   "cell_type": "code",
   "execution_count": null,
   "id": "f13c8ec8",
   "metadata": {},
   "outputs": [],
   "source": [
    "# merge on zip to lottery\n",
    "lottery_merge = pd.merge(lottery_merge, zip_county_cw, on = ['zip'], how = 'left')\n",
    "\n",
    "# format county fips to match county dataset\n",
    "lottery_merge['county'] = lottery_merge['county'].fillna(0).astype(int).astype(str)\n",
    "lottery_merge['county'] = lottery_merge['county'].str[2:]\n",
    "\n",
    "# get county name and fips, format\n",
    "county_name_fips = county[['COUNTY_NAM', 'CO_FIPS']]\n",
    "county_name_fips['county'] = county_name_fips['CO_FIPS'].fillna(0).astype(int).astype(str)\n",
    "county_name_fips['county'] = county_name_fips['county'].str.zfill(3)\n",
    "county_name_fips\n",
    "\n",
    "# merge to get county names from FIPS\n",
    "lottery_merge = pd.merge(lottery_merge, county_name_fips, on = ['county'], how = 'left')"
   ]
  },
  {
   "cell_type": "code",
   "execution_count": null,
   "id": "547bb801",
   "metadata": {},
   "outputs": [],
   "source": [
    "# clean up dataset \n",
    "\n",
    "lottery_merge['county_name'] = lottery_merge['COUNTY_NAM_x']\n",
    "lottery_merge.loc[lottery_merge['COUNTY_NAM_x'].isna(), 'county_name'] = lottery_merge['COUNTY_NAM_y']\n",
    "lottery_merge['town'] = lottery_merge['town1']"
   ]
  },
  {
   "cell_type": "code",
   "execution_count": null,
   "id": "4c011c04",
   "metadata": {},
   "outputs": [],
   "source": [
    "lottery_final = lottery_merge[['Application ID', 'Project Name', 'Name of Approved Vendor', \n",
    "                              'group', 'lat', 'lon', 'Size (kW AC)', \n",
    "                              'town', 'zip', 'county_name', 'Address', 'Ordinal', \n",
    "                              'Lottery Status', 'Block', 'Queue Number', 'Small Subscribers', \n",
    "                              'formatted_address', 'accuracy', 'type', 'clean_add', 'man_update', \n",
    "                              'lat_deg_dec_min', 'lon_deg_dec_min']]"
   ]
  },
  {
   "cell_type": "code",
   "execution_count": null,
   "id": "f4a4e63c",
   "metadata": {},
   "outputs": [],
   "source": [
    "# Save this dataset\n",
    "lottery_final.to_csv(data_path + 'ipa_lottery/processed/final_lottery_locations_with_co_town_zip.csv')"
   ]
  }
 ],
 "metadata": {
  "kernelspec": {
   "display_name": "py38",
   "language": "python",
   "name": "py38"
  },
  "language_info": {
   "codemirror_mode": {
    "name": "ipython",
    "version": 3
   },
   "file_extension": ".py",
   "mimetype": "text/x-python",
   "name": "python",
   "nbconvert_exporter": "python",
   "pygments_lexer": "ipython3",
   "version": "3.8.8"
  }
 },
 "nbformat": 4,
 "nbformat_minor": 5
}
