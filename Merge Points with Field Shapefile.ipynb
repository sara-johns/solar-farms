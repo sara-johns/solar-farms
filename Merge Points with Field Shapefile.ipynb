{
 "cells": [
  {
   "cell_type": "markdown",
   "id": "482d7fca",
   "metadata": {},
   "source": [
    "Index: 01\n",
    "\n",
    "Date: 2021/11/07"
   ]
  },
  {
   "cell_type": "code",
   "execution_count": 1,
   "id": "8d002994",
   "metadata": {},
   "outputs": [
    {
     "name": "stdout",
     "output_type": "stream",
     "text": [
      "Requirement already satisfied: geopandas in c:\\users\\shuoy\\anaconda3\\lib\\site-packages (0.10.0)\n",
      "Requirement already satisfied: fiona>=1.8 in c:\\users\\shuoy\\anaconda3\\lib\\site-packages (from geopandas) (1.8.20)\n",
      "Requirement already satisfied: pyproj>=2.2.0 in c:\\users\\shuoy\\anaconda3\\lib\\site-packages (from geopandas) (3.2.1)\n",
      "Requirement already satisfied: shapely>=1.6 in c:\\users\\shuoy\\anaconda3\\lib\\site-packages (from geopandas) (1.7.1)\n",
      "Requirement already satisfied: pandas>=0.25.0 in c:\\users\\shuoy\\anaconda3\\lib\\site-packages (from geopandas) (1.2.4)\n",
      "Requirement already satisfied: setuptools in c:\\users\\shuoy\\anaconda3\\lib\\site-packages (from fiona>=1.8->geopandas) (52.0.0.post20210125)\n",
      "Requirement already satisfied: six>=1.7 in c:\\users\\shuoy\\anaconda3\\lib\\site-packages (from fiona>=1.8->geopandas) (1.15.0)\n",
      "Requirement already satisfied: certifi in c:\\users\\shuoy\\anaconda3\\lib\\site-packages (from fiona>=1.8->geopandas) (2020.12.5)\n",
      "Requirement already satisfied: attrs>=17 in c:\\users\\shuoy\\anaconda3\\lib\\site-packages (from fiona>=1.8->geopandas) (20.3.0)\n",
      "Requirement already satisfied: gdal~=3.3.0 in c:\\users\\shuoy\\anaconda3\\lib\\site-packages (from fiona>=1.8->geopandas) (3.3.2)\n",
      "Requirement already satisfied: click-plugins>=1.0 in c:\\users\\shuoy\\anaconda3\\lib\\site-packages (from fiona>=1.8->geopandas) (1.1.1)\n",
      "Requirement already satisfied: munch in c:\\users\\shuoy\\anaconda3\\lib\\site-packages (from fiona>=1.8->geopandas) (2.5.0)\n",
      "Requirement already satisfied: cligj>=0.5 in c:\\users\\shuoy\\anaconda3\\lib\\site-packages (from fiona>=1.8->geopandas) (0.7.2)\n",
      "Requirement already satisfied: click>=4.0 in c:\\users\\shuoy\\anaconda3\\lib\\site-packages (from fiona>=1.8->geopandas) (7.1.2)\n",
      "Requirement already satisfied: numpy>=1.16.5 in c:\\users\\shuoy\\anaconda3\\lib\\site-packages (from pandas>=0.25.0->geopandas) (1.20.1)\n",
      "Requirement already satisfied: python-dateutil>=2.7.3 in c:\\users\\shuoy\\anaconda3\\lib\\site-packages (from pandas>=0.25.0->geopandas) (2.8.1)\n",
      "Requirement already satisfied: pytz>=2017.3 in c:\\users\\shuoy\\anaconda3\\lib\\site-packages (from pandas>=0.25.0->geopandas) (2021.1)\n"
     ]
    }
   ],
   "source": [
    "# !pip install geopandas"
   ]
  },
  {
   "cell_type": "code",
   "execution_count": 64,
   "id": "4a7a2766",
   "metadata": {},
   "outputs": [],
   "source": [
    "import pandas as pd\n",
    "import numpy as np\n",
    "import geopandas\n",
    "import shapely\n",
    "from geopandas.tools import sjoin\n",
    "from os import listdir"
   ]
  },
  {
   "cell_type": "markdown",
   "id": "2e77ca75",
   "metadata": {},
   "source": [
    "Notes: If having trouble installing geopandas (/fiona/GDAL), please visit https://www.lfd.uci.edu/~gohlke/pythonlibs/#gdal and https://www.lfd.uci.edu/~gohlke/pythonlibs/#fiona to find supported whls (Note: cp37 means python version 3.7). Then `pip install GDAL-xxx.whl`, `set GDAL_VERSION=xxx`, `pip install Fiona-xxx.whl` , and lastly `pip install geopandas`.\n",
    "\n",
    "If there is problem with shapely.geos, first pip uninstall shapely within conda prompt, then conda install shapely."
   ]
  },
  {
   "cell_type": "code",
   "execution_count": 59,
   "id": "04c7899e",
   "metadata": {},
   "outputs": [],
   "source": [
    "# Import farm coordinates from the excel file as a dataframe.\n",
    "farm_coordinates = pd.read_excel('group_a_addresses_geocoded_manual_updates.xlsx', index_col=0)\n",
    "\n",
    "# Change the points dataframe to a GeoDataFrame with geometry given by longitude and latitude variables.\n",
    "point_all = geopandas.GeoDataFrame(\n",
    "    farm_coordinates, \n",
    "    geometry=geopandas.points_from_xy(farm_coordinates.longitude, farm_coordinates.latitude))\n",
    "\n",
    "# Set Coordinate Reference System (CRS) to be epsg:4326, or the WGS84 latitude-longitude projection.\n",
    "point_all = point_all.set_crs(epsg=4326)"
   ]
  },
  {
   "cell_type": "code",
   "execution_count": 60,
   "id": "a7d3e58c",
   "metadata": {},
   "outputs": [],
   "source": [
    "def merge_point_poly(poly_file_path, point_all):\n",
    "    \"\"\"\n",
    "    Find polygons that have at least a target point inside their boundaries.\n",
    "    Input: poly_file_path: str, file path of the shapefile of polygons.\n",
    "           point_all: GeoDataFrame, GeoDataFrame of points.\n",
    "    Output: GeoDataFrame, GeoDataFrame of polygons that has at least one target point inside.\n",
    "    \"\"\"\n",
    "    # Construct a GeoDataFrame of polygons from the shapefile.\n",
    "    poly = geopandas.GeoDataFrame.from_file(poly_file_path)\n",
    "    # Transform all geometries in a point_all to crs of the polygon shapfile. \n",
    "    point = point_all.to_crs(poly.crs)\n",
    "    # Spatial join of point and poly, and keep geometry of poly as the geometry of the new shapefile.\n",
    "    # (It only keeps the geometry from the left GeoDataFrame. \n",
    "    pointPolys = sjoin(poly, point, how='inner')\n",
    "    # Select those entries without nan.\n",
    "    # pointPolys[~(pointPolys.index_left.isna())]\n",
    "    return pointPolys"
   ]
  },
  {
   "cell_type": "code",
   "execution_count": 61,
   "id": "cebb665b",
   "metadata": {},
   "outputs": [],
   "source": [
    "a = merge_point_poly('il/il001/clu_public_a_il001.shp', point_all)"
   ]
  },
  {
   "cell_type": "code",
   "execution_count": 69,
   "id": "f35d972c",
   "metadata": {},
   "outputs": [],
   "source": [
    "# Loop through all shapefiles in Illinois.\n",
    "list_file = listdir('il')\n",
    "for i in range(len(list_file)):\n",
    "    file_name = list_file[i]\n",
    "    if i ==0:\n",
    "        output = merge_point_poly('il/'+file_name+'/clu_public_a_'+file_name+'.shp', point_all)\n",
    "    else:\n",
    "        m = merge_point_poly('il/'+file_name+'/clu_public_a_'+file_name+'.shp', point_all)\n",
    "        # Appended geometry columns needs to have the same CRS.\n",
    "        m.to_crs(output.crs, inplace=True)\n",
    "        output = output.append(m)"
   ]
  },
  {
   "cell_type": "code",
   "execution_count": 72,
   "id": "f089dd5a",
   "metadata": {},
   "outputs": [],
   "source": [
    "output.reset_index(drop=True, inplace=True)"
   ]
  },
  {
   "cell_type": "code",
   "execution_count": 74,
   "id": "4533616e",
   "metadata": {},
   "outputs": [
    {
     "name": "stderr",
     "output_type": "stream",
     "text": [
      "<ipython-input-74-d429184222b5>:1: UserWarning: Column names longer than 10 characters will be truncated when saved to ESRI Shapefile.\n",
      "  output.to_file(\"fields.shp\")\n"
     ]
    }
   ],
   "source": [
    "output.to_file(\"fields.shp\")"
   ]
  },
  {
   "cell_type": "code",
   "execution_count": null,
   "id": "b062387a",
   "metadata": {},
   "outputs": [],
   "source": []
  }
 ],
 "metadata": {
  "kernelspec": {
   "display_name": "Python 3",
   "language": "python",
   "name": "python3"
  },
  "language_info": {
   "codemirror_mode": {
    "name": "ipython",
    "version": 3
   },
   "file_extension": ".py",
   "mimetype": "text/x-python",
   "name": "python",
   "nbconvert_exporter": "python",
   "pygments_lexer": "ipython3",
   "version": "3.8.8"
  }
 },
 "nbformat": 4,
 "nbformat_minor": 5
}
