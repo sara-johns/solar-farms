{
 "cells": [
  {
   "cell_type": "markdown",
   "metadata": {},
   "source": [
    "Index: 01\n",
    "\n",
    "Date: 2021/11/07"
   ]
  },
  {
   "cell_type": "markdown",
   "metadata": {},
   "source": [
    "Questions:\n",
    "Why there are around 200 duplicate geometries?"
   ]
  },
  {
   "cell_type": "code",
   "execution_count": 1,
   "metadata": {},
   "outputs": [],
   "source": [
    "# !pip install geopandas"
   ]
  },
  {
   "cell_type": "code",
   "execution_count": 2,
   "metadata": {},
   "outputs": [],
   "source": [
    "import pandas as pd\n",
    "import numpy as np\n",
    "import geopandas\n",
    "import shapely\n",
    "from geopandas.tools import sjoin\n",
    "from os import listdir\n",
    "from scipy.spatial import cKDTree\n",
    "import itertools\n",
    "from operator import itemgetter"
   ]
  },
  {
   "cell_type": "markdown",
   "metadata": {},
   "source": [
    "Notes: If having trouble installing geopandas (/fiona/GDAL), please visit https://www.lfd.uci.edu/~gohlke/pythonlibs/#gdal and https://www.lfd.uci.edu/~gohlke/pythonlibs/#fiona to find supported whls (Note: cp37 means python version 3.7). Then `pip install GDAL-xxx.whl`, `set GDAL_VERSION=xxx`, `pip install Fiona-xxx.whl` , and lastly `pip install geopandas`.\n",
    "\n",
    "If there is problem with shapely.geos, first pip uninstall shapely within conda prompt, then conda install shapely."
   ]
  },
  {
   "cell_type": "code",
   "execution_count": 3,
   "metadata": {},
   "outputs": [],
   "source": [
    "# Import farm coordinates from the excel file as a dataframe.\n",
    "farm_coordinates = pd.read_csv('final_lottery_locations.csv')\n",
    "farm_coordinates = farm_coordinates.dropna(subset=['lon', 'lat'])\n",
    "\n",
    "# Change the points dataframe to a GeoDataFrame with geometry given by longitude and latitude variables.\n",
    "point_all = geopandas.GeoDataFrame(\n",
    "    farm_coordinates, \n",
    "    geometry=geopandas.points_from_xy(farm_coordinates.lon, farm_coordinates.lat))\n",
    "\n",
    "# Set Coordinate Reference System (CRS) to be epsg:4326, or the WGS84 latitude-longitude projection.\n",
    "point_all = point_all.set_crs(epsg=4326)"
   ]
  },
  {
   "cell_type": "markdown",
   "metadata": {},
   "source": [
    "Shape join points and polygons to find shapefiles of the solar farms."
   ]
  },
  {
   "cell_type": "code",
   "execution_count": 4,
   "metadata": {},
   "outputs": [],
   "source": [
    "def merge_point_poly(poly_file_path, point_all):\n",
    "    \"\"\"\n",
    "    Find polygons that have at least a target point inside their boundaries.\n",
    "    Input: poly_file_path: str, file path of the shapefile of polygons.\n",
    "           point_all: GeoDataFrame, GeoDataFrame of points.\n",
    "    Output: GeoDataFrame, GeoDataFrame of polygons that has at least one target point inside.\n",
    "    \"\"\"\n",
    "    # Construct a GeoDataFrame of polygons from the shapefile.\n",
    "    poly = geopandas.GeoDataFrame.from_file(poly_file_path)\n",
    "    # Transform all geometries in a point_all to crs of the polygon shapfile. \n",
    "    point = point_all.to_crs(poly.crs)\n",
    "    # Spatial join of point and poly, and keep geometry of poly as the geometry of the new shapefile.\n",
    "    # (It only keeps the geometry from the left GeoDataFrame. \n",
    "    pointPolys = sjoin(poly, point, how='inner')\n",
    "    # Select those entries without nan.\n",
    "    # pointPolys[~(pointPolys.index_left.isna())]\n",
    "    return pointPolys"
   ]
  },
  {
   "cell_type": "code",
   "execution_count": 5,
   "metadata": {},
   "outputs": [],
   "source": [
    "a = merge_point_poly('il/il001/clu_public_a_il001.shp', point_all)"
   ]
  },
  {
   "cell_type": "markdown",
   "metadata": {},
   "source": [
    "Loop through all shapefiles in Illinois and concatenate all merged fields together."
   ]
  },
  {
   "cell_type": "code",
   "execution_count": 6,
   "metadata": {},
   "outputs": [],
   "source": [
    "# Loop through all shapefiles in Illinois.\n",
    "list_file = listdir('il')\n",
    "for i in range(len(list_file)):\n",
    "    file_name = list_file[i]\n",
    "    if i ==0:\n",
    "        output = merge_point_poly('il/'+file_name+'/clu_public_a_'+file_name+'.shp', point_all)\n",
    "    else:\n",
    "        m = merge_point_poly('il/'+file_name+'/clu_public_a_'+file_name+'.shp', point_all)\n",
    "        # Appended geometry columns needs to have the same CRS.\n",
    "        m.to_crs(output.crs, inplace=True)\n",
    "        output = output.append(m)"
   ]
  },
  {
   "cell_type": "code",
   "execution_count": 7,
   "metadata": {},
   "outputs": [],
   "source": [
    "output.reset_index(drop=True, inplace=True)"
   ]
  },
  {
   "cell_type": "code",
   "execution_count": 8,
   "metadata": {},
   "outputs": [],
   "source": [
    "output.reset_index(inplace=True)"
   ]
  },
  {
   "cell_type": "code",
   "execution_count": 9,
   "metadata": {},
   "outputs": [],
   "source": [
    "solar_farms = output"
   ]
  },
  {
   "cell_type": "code",
   "execution_count": 11,
   "metadata": {},
   "outputs": [],
   "source": [
    "solar_farms.to_csv('merged_fields.csv')"
   ]
  },
  {
   "cell_type": "markdown",
   "metadata": {},
   "source": [
    "Another way to merge. Create a 5-meter (parameter able to change) buffer around each field point, then find the overlapping areas with each field shape, merge with the field that has largest overlapping areas with the buffer."
   ]
  },
  {
   "cell_type": "code",
   "execution_count": 117,
   "metadata": {},
   "outputs": [],
   "source": [
    "def merge_by_max_ov(poly_file_path, point_all, radius, i):\n",
    "    \"\"\"\n",
    "    Input: poly_file_path: string, file path of the field shapefile.\n",
    "           point_all: geopandas dataframe, geodataframe of field addresses.\n",
    "           radius: float/int/double, takes meter as its unit.\n",
    "           i: int, number of the shapefile.\n",
    "    \"\"\"\n",
    "    # Construct a GeoDataFrame of polygons from the shapefile.\n",
    "    poly = geopandas.GeoDataFrame.from_file(poly_file_path)\n",
    "    # Add field ID to the GeoDataFrame.\n",
    "    poly.reset_index(inplace=True)\n",
    "    poly.rename(columns={'index': 'field_ID'}, inplace=True)\n",
    "    # Transform all geometries in a point_all to crs of the polygon shapfile. \n",
    "    point = point_all.to_crs(poly.crs)\n",
    "    point.geometry = point.buffer(radius)\n",
    "    # Spatial overlay.\n",
    "    s = geopandas.overlay(point, poly, how = 'intersection')\n",
    "    # Calculate overlapping area and get the maximum.\n",
    "    s['area_ov'] = s.geometry.area\n",
    "    gb = s.groupby('Application ID')[['area_ov']].max()\n",
    "    # Add the column 'area_ov' which is the max area overlapping to the original gdf.\n",
    "    point = point.merge(gb, left_on = 'Application ID', right_index = True)\n",
    "    # Drop extraneous columns from the joined gdf\n",
    "    s = s[['Application ID','field_ID', 'area_ov']]\n",
    "    s['shape_file_ID'] = i\n",
    "    # Merge the attribute column to the original gdf.\n",
    "    point = point.merge(s, on=['Application ID', 'area_ov'])\n",
    "    # Change the geometry to corresponding field shapefiles.\n",
    "    point.drop(columns=['geometry'], inplace=True)\n",
    "    point = point.merge(poly, on=['field_ID'])\n",
    "    return point"
   ]
  },
  {
   "cell_type": "code",
   "execution_count": 119,
   "metadata": {},
   "outputs": [],
   "source": [
    "# Loop through all shapefiles in Illinois.\n",
    "list_file = listdir('il')\n",
    "radius = 30\n",
    "for i in range(len(list_file)):\n",
    "    file_name = list_file[i]\n",
    "    if i ==0:\n",
    "        output = merge_by_max_ov('il/'+file_name+'/clu_public_a_'+file_name+'.shp', point_all, radius, i)\n",
    "    else:\n",
    "        m = merge_by_max_ov('il/'+file_name+'/clu_public_a_'+file_name+'.shp', point_all, radius, i)\n",
    "        # Appended geometry columns needs to have the same CRS.\n",
    "        m.to_crs(output.crs, inplace=True)\n",
    "        output = output.append(m)"
   ]
  },
  {
   "cell_type": "code",
   "execution_count": 127,
   "metadata": {},
   "outputs": [],
   "source": [
    "idx = output.groupby(['Application ID'])['area_ov'].transform(max) == output['area_ov']\n",
    "output = output[idx]"
   ]
  },
  {
   "cell_type": "code",
   "execution_count": 130,
   "metadata": {},
   "outputs": [],
   "source": [
    "output.to_csv('merged_fields_by_area.csv')"
   ]
  },
  {
   "cell_type": "code",
   "execution_count": 100,
   "metadata": {},
   "outputs": [],
   "source": []
  },
  {
   "cell_type": "code",
   "execution_count": 101,
   "metadata": {},
   "outputs": [],
   "source": []
  },
  {
   "cell_type": "code",
   "execution_count": 102,
   "metadata": {},
   "outputs": [],
   "source": []
  },
  {
   "cell_type": "code",
   "execution_count": 104,
   "metadata": {},
   "outputs": [],
   "source": []
  },
  {
   "cell_type": "code",
   "execution_count": null,
   "metadata": {},
   "outputs": [],
   "source": []
  },
  {
   "cell_type": "code",
   "execution_count": null,
   "metadata": {},
   "outputs": [],
   "source": []
  },
  {
   "cell_type": "code",
   "execution_count": null,
   "metadata": {},
   "outputs": [],
   "source": []
  },
  {
   "cell_type": "code",
   "execution_count": null,
   "metadata": {},
   "outputs": [],
   "source": []
  },
  {
   "cell_type": "markdown",
   "metadata": {},
   "source": [
    "Get centroids of each field and store in a geopandas dataframe."
   ]
  },
  {
   "cell_type": "code",
   "execution_count": 72,
   "metadata": {},
   "outputs": [],
   "source": [
    "field_centroid = geopandas.GeoDataFrame(geometry=output.centroid, crs=output.crs)\n",
    "field_centroid.reset_index(inplace=True)"
   ]
  },
  {
   "cell_type": "code",
   "execution_count": 73,
   "metadata": {
    "scrolled": true
   },
   "outputs": [
    {
     "data": {
      "text/plain": [
       "<matplotlib.axes._subplots.AxesSubplot at 0x26da3ebb190>"
      ]
     },
     "execution_count": 73,
     "metadata": {},
     "output_type": "execute_result"
    },
    {
     "data": {
      "image/png": "[encoded data removed]",
      "text/plain": [
       "<Figure size 432x288 with 1 Axes>"
      ]
     },
     "metadata": {
      "needs_background": "light"
     },
     "output_type": "display_data"
    }
   ],
   "source": [
    "field_centroid.plot()"
   ]
  },
  {
   "cell_type": "markdown",
   "metadata": {},
   "source": [
    "Import Homeland Infrastructure Foundation-Level Data (HIFLD) (downloaded shapefiles)."
   ]
  },
  {
   "cell_type": "code",
   "execution_count": 74,
   "metadata": {},
   "outputs": [],
   "source": [
    "electricity = geopandas.GeoDataFrame.from_file('Electric_Substations/Substations.shp')\n",
    "electricity.to_crs(solar_farms.crs, inplace=True)"
   ]
  },
  {
   "cell_type": "markdown",
   "metadata": {},
   "source": [
    "Find nearest infrastructure lines around the centroids.\n",
    "\n",
    "Useful link: https://gis.stackexchange.com/questions/222315/finding-nearest-point-in-other-geodataframe-using-geopandas"
   ]
  },
  {
   "cell_type": "code",
   "execution_count": 75,
   "metadata": {},
   "outputs": [],
   "source": [
    "def min_dist(point, gpd2):\n",
    "    \"\"\"\n",
    "    Calculate distances from point to each point in gpd2, and sort out the nearest point.\n",
    "    Input: point: a point geometry.\n",
    "           gpd2: a geopandas dataframe of points.\n",
    "    \"\"\"\n",
    "    gpd2['Dist'] = gpd2.apply(lambda row: point.distance(row.geometry),axis=1)\n",
    "    geoseries = gpd2.iloc[gpd2['Dist'].argmin()]\n",
    "    return geoseries\n",
    "\n",
    "field_centroid['Nearest'] = field_centroid.apply(lambda row: min_dist(row.geometry, electricity)['ID'] , axis=1)\n",
    "electricity.drop(columns=['Dist'], inplace=True)"
   ]
  },
  {
   "cell_type": "code",
   "execution_count": 92,
   "metadata": {},
   "outputs": [],
   "source": [
    "field_centroid.drop_duplicates(subset=['geometry'], inplace=True)\n",
    "field_centroid.reset_index(drop=True, inplace=True)"
   ]
  },
  {
   "cell_type": "code",
   "execution_count": 93,
   "metadata": {},
   "outputs": [
    {
     "data": {
      "text/html": [
       "<div>\n",
       "<style scoped>\n",
       "    .dataframe tbody tr th:only-of-type {\n",
       "        vertical-align: middle;\n",
       "    }\n",
       "\n",
       "    .dataframe tbody tr th {\n",
       "        vertical-align: top;\n",
       "    }\n",
       "\n",
       "    .dataframe thead th {\n",
       "        text-align: right;\n",
       "    }\n",
       "</style>\n",
       "<table border=\"1\" class=\"dataframe\">\n",
       "  <thead>\n",
       "    <tr style=\"text-align: right;\">\n",
       "      <th></th>\n",
       "      <th>index</th>\n",
       "      <th>geometry</th>\n",
       "      <th>Nearest</th>\n",
       "    </tr>\n",
       "  </thead>\n",
       "  <tbody>\n",
       "    <tr>\n",
       "      <th>0</th>\n",
       "      <td>0</td>\n",
       "      <td>POINT (641645.255 4424984.204)</td>\n",
       "      <td>153234</td>\n",
       "    </tr>\n",
       "    <tr>\n",
       "      <th>1</th>\n",
       "      <td>2</td>\n",
       "      <td>POINT (639264.498 4426793.428)</td>\n",
       "      <td>153234</td>\n",
       "    </tr>\n",
       "    <tr>\n",
       "      <th>2</th>\n",
       "      <td>4</td>\n",
       "      <td>POINT (803686.698 4325749.989)</td>\n",
       "      <td>122493</td>\n",
       "    </tr>\n",
       "    <tr>\n",
       "      <th>3</th>\n",
       "      <td>5</td>\n",
       "      <td>POINT (838808.714 4685853.605)</td>\n",
       "      <td>156657</td>\n",
       "    </tr>\n",
       "    <tr>\n",
       "      <th>4</th>\n",
       "      <td>8</td>\n",
       "      <td>POINT (840993.678 4699506.967)</td>\n",
       "      <td>121926</td>\n",
       "    </tr>\n",
       "    <tr>\n",
       "      <th>...</th>\n",
       "      <td>...</td>\n",
       "      <td>...</td>\n",
       "      <td>...</td>\n",
       "    </tr>\n",
       "    <tr>\n",
       "      <th>342</th>\n",
       "      <td>471</td>\n",
       "      <td>POINT (817772.314 4686255.997)</td>\n",
       "      <td>137867</td>\n",
       "    </tr>\n",
       "    <tr>\n",
       "      <th>343</th>\n",
       "      <td>472</td>\n",
       "      <td>POINT (832020.861 4699664.813)</td>\n",
       "      <td>121926</td>\n",
       "    </tr>\n",
       "    <tr>\n",
       "      <th>344</th>\n",
       "      <td>473</td>\n",
       "      <td>POINT (813079.125 4694215.789)</td>\n",
       "      <td>134715</td>\n",
       "    </tr>\n",
       "    <tr>\n",
       "      <th>345</th>\n",
       "      <td>474</td>\n",
       "      <td>POINT (815850.044 4505932.664)</td>\n",
       "      <td>155828</td>\n",
       "    </tr>\n",
       "    <tr>\n",
       "      <th>346</th>\n",
       "      <td>476</td>\n",
       "      <td>POINT (793411.952 4522098.019)</td>\n",
       "      <td>138540</td>\n",
       "    </tr>\n",
       "  </tbody>\n",
       "</table>\n",
       "<p>347 rows × 3 columns</p>\n",
       "</div>"
      ],
      "text/plain": [
       "     index                        geometry Nearest\n",
       "0        0  POINT (641645.255 4424984.204)  153234\n",
       "1        2  POINT (639264.498 4426793.428)  153234\n",
       "2        4  POINT (803686.698 4325749.989)  122493\n",
       "3        5  POINT (838808.714 4685853.605)  156657\n",
       "4        8  POINT (840993.678 4699506.967)  121926\n",
       "..     ...                             ...     ...\n",
       "342    471  POINT (817772.314 4686255.997)  137867\n",
       "343    472  POINT (832020.861 4699664.813)  121926\n",
       "344    473  POINT (813079.125 4694215.789)  134715\n",
       "345    474  POINT (815850.044 4505932.664)  155828\n",
       "346    476  POINT (793411.952 4522098.019)  138540\n",
       "\n",
       "[347 rows x 3 columns]"
      ]
     },
     "execution_count": 93,
     "metadata": {},
     "output_type": "execute_result"
    }
   ],
   "source": [
    "field_centroid"
   ]
  },
  {
   "cell_type": "code",
   "execution_count": 94,
   "metadata": {},
   "outputs": [],
   "source": [
    "# Construct a geopandas dataframe of the nearest towers in the same order of the field centroids of the solar farms.\n",
    "nearest_towers = field_centroid.copy().drop(columns=['geometry'])\n",
    "nearest_towers = nearest_towers.merge(electricity, left_on='Nearest', right_on='ID', how='left')\n",
    "\n",
    "# Calculate distances from centroid of fields to the nearest towers.\n",
    "# Unit in EPSG:26915 is metre, so the distances are in meters.\n",
    "field_centroid['dist_nearest_tower'] = field_centroid.distance(nearest_towers)\n",
    "\n",
    "# Merge other attributes of the nearest tower.\n",
    "nearest_towers.drop(columns=['geometry', 'Nearest', 'index'], inplace=True)\n",
    "field_centroid = pd.concat([field_centroid , nearest_towers], axis=1)\n",
    "\n",
    "# Calculate the greatest accepted distance to each tower.\n",
    "field_centroid['max_dist'] = field_centroid.groupby(['ID'])['dist_nearest_tower'].transform(max)"
   ]
  },
  {
   "cell_type": "code",
   "execution_count": 144,
   "metadata": {},
   "outputs": [],
   "source": [
    "# Get all fields within the max distance of each tower.\n",
    "towers = field_centroid.copy().drop_duplicates(subset=['ID'])\n",
    "towers.reset_index(drop=True, inplace=True)\n",
    "towers['geometry'] = towers.buffer(towers.max_dist)\n",
    "towers.drop(columns=['Nearest', 'dist_nearest_tower'], inplace=True)"
   ]
  },
  {
   "cell_type": "code",
   "execution_count": 135,
   "metadata": {},
   "outputs": [
    {
     "data": {
      "text/plain": [
       "<matplotlib.axes._subplots.AxesSubplot at 0x26da7b75430>"
      ]
     },
     "execution_count": 135,
     "metadata": {},
     "output_type": "execute_result"
    },
    {
     "data": {
      "image/png": "[encoded data removed]",
      "text/plain": [
       "<Figure size 432x288 with 1 Axes>"
      ]
     },
     "metadata": {
      "needs_background": "light"
     },
     "output_type": "display_data"
    }
   ],
   "source": [
    "towers.plot()"
   ]
  },
  {
   "cell_type": "code",
   "execution_count": 157,
   "metadata": {},
   "outputs": [],
   "source": [
    "def merge_point_poly_2(poly_file_path, buf):\n",
    "    \"\"\"\n",
    "    Find polygons whose centroids are within the buffer zone.\n",
    "    Input: poly_file_path: str, file path of the shapefile of polygons.\n",
    "           buf: GeoDataFrame, GeoDataFrame of buffers of points.\n",
    "    Output: GeoDataFrame, GeoDataFrame of polygons whose centroids are within the buffer zone.\n",
    "    \"\"\"\n",
    "    # Construct a GeoDataFrame of polygons from the shapefile.\n",
    "    poly = geopandas.GeoDataFrame.from_file(poly_file_path)\n",
    "    poly_centroid = poly.copy()\n",
    "    poly_centroid['geometry'] = poly.centroid\n",
    "    # Transform all geometries in a point_all to crs of the polygon shapfile. \n",
    "    buf = buf.to_crs(poly.crs)\n",
    "    # Spatial join of point and poly, and keep geometry of poly as the geometry of the new shapefile.\n",
    "    # (It only keeps the geometry from the left GeoDataFrame. \n",
    "    pointPolys = sjoin(poly_centroid, buf, how='inner')\n",
    "    # Replace the geometry with polygons. Matching by index.\n",
    "    if len(pointPolys)!=0:\n",
    "        pointPolys.loc[:, ['geometry']] = poly[['geometry']]\n",
    "    return pointPolys"
   ]
  },
  {
   "cell_type": "code",
   "execution_count": 158,
   "metadata": {},
   "outputs": [],
   "source": [
    "# Loop through all shapefiles in Illinois. Find all fields that are within the maximum distances from the electricity towers.\n",
    "list_file = listdir('il')\n",
    "for i in range(len(list_file)):\n",
    "    file_name = list_file[i]\n",
    "    if i ==0:\n",
    "        output_2 = merge_point_poly_2('il/'+file_name+'/clu_public_a_'+file_name+'.shp', towers)\n",
    "    else:\n",
    "        m = merge_point_poly_2('il/'+file_name+'/clu_public_a_'+file_name+'.shp', towers)\n",
    "        # Appended geometry columns needs to have the same CRS.\n",
    "        m.to_crs(output_2.crs, inplace=True)\n",
    "        output_2 = output_2.append(m)"
   ]
  },
  {
   "cell_type": "code",
   "execution_count": 180,
   "metadata": {},
   "outputs": [],
   "source": [
    "output_2.dropna(subset=['ID'], inplace=True)"
   ]
  },
  {
   "cell_type": "code",
   "execution_count": 183,
   "metadata": {},
   "outputs": [],
   "source": [
    "output_2.reset_index(drop=True, inplace=True)"
   ]
  },
  {
   "cell_type": "code",
   "execution_count": 181,
   "metadata": {},
   "outputs": [
    {
     "data": {
      "text/plain": [
       "<matplotlib.axes._subplots.AxesSubplot at 0x26dc76230a0>"
      ]
     },
     "execution_count": 181,
     "metadata": {},
     "output_type": "execute_result"
    },
    {
     "data": {
      "image/png": "[encoded data removed]",
      "text/plain": [
       "<Figure size 432x288 with 1 Axes>"
      ]
     },
     "metadata": {
      "needs_background": "light"
     },
     "output_type": "display_data"
    }
   ],
   "source": [
    "output_2.plot()"
   ]
  },
  {
   "cell_type": "code",
   "execution_count": 184,
   "metadata": {},
   "outputs": [
    {
     "data": {
      "text/html": [
       "<div>\n",
       "<style scoped>\n",
       "    .dataframe tbody tr th:only-of-type {\n",
       "        vertical-align: middle;\n",
       "    }\n",
       "\n",
       "    .dataframe tbody tr th {\n",
       "        vertical-align: top;\n",
       "    }\n",
       "\n",
       "    .dataframe thead th {\n",
       "        text-align: right;\n",
       "    }\n",
       "</style>\n",
       "<table border=\"1\" class=\"dataframe\">\n",
       "  <thead>\n",
       "    <tr style=\"text-align: right;\">\n",
       "      <th></th>\n",
       "      <th>CALCACRES</th>\n",
       "      <th>geometry</th>\n",
       "      <th>index_right</th>\n",
       "      <th>index</th>\n",
       "      <th>OBJECTID</th>\n",
       "      <th>ID</th>\n",
       "      <th>NAME</th>\n",
       "      <th>CITY</th>\n",
       "      <th>STATE</th>\n",
       "      <th>ZIP</th>\n",
       "      <th>...</th>\n",
       "      <th>SOURCE</th>\n",
       "      <th>SOURCEDATE</th>\n",
       "      <th>VAL_METHOD</th>\n",
       "      <th>VAL_DATE</th>\n",
       "      <th>LINES</th>\n",
       "      <th>MAX_VOLT</th>\n",
       "      <th>MIN_VOLT</th>\n",
       "      <th>MAX_INFER</th>\n",
       "      <th>MIN_INFER</th>\n",
       "      <th>max_dist</th>\n",
       "    </tr>\n",
       "  </thead>\n",
       "  <tbody>\n",
       "    <tr>\n",
       "      <th>0</th>\n",
       "      <td>6.17</td>\n",
       "      <td>POLYGON ((640750.718 4424307.671, 640757.321 4...</td>\n",
       "      <td>0.0</td>\n",
       "      <td>0.0</td>\n",
       "      <td>37921.0</td>\n",
       "      <td>153234</td>\n",
       "      <td>EAST QUINCY</td>\n",
       "      <td>QUINCY</td>\n",
       "      <td>IL</td>\n",
       "      <td>62305</td>\n",
       "      <td>...</td>\n",
       "      <td>IMAGERY, https://www.misoenergy.org/Library/Re...</td>\n",
       "      <td>2015-04-14</td>\n",
       "      <td>IMAGERY</td>\n",
       "      <td>2017-04-27</td>\n",
       "      <td>5.0</td>\n",
       "      <td>138.0</td>\n",
       "      <td>138.0</td>\n",
       "      <td>Y</td>\n",
       "      <td>Y</td>\n",
       "      <td>2333.467904</td>\n",
       "    </tr>\n",
       "    <tr>\n",
       "      <th>1</th>\n",
       "      <td>3.12</td>\n",
       "      <td>POLYGON ((640435.755 4426728.456, 640625.702 4...</td>\n",
       "      <td>0.0</td>\n",
       "      <td>0.0</td>\n",
       "      <td>37921.0</td>\n",
       "      <td>153234</td>\n",
       "      <td>EAST QUINCY</td>\n",
       "      <td>QUINCY</td>\n",
       "      <td>IL</td>\n",
       "      <td>62305</td>\n",
       "      <td>...</td>\n",
       "      <td>IMAGERY, https://www.misoenergy.org/Library/Re...</td>\n",
       "      <td>2015-04-14</td>\n",
       "      <td>IMAGERY</td>\n",
       "      <td>2017-04-27</td>\n",
       "      <td>5.0</td>\n",
       "      <td>138.0</td>\n",
       "      <td>138.0</td>\n",
       "      <td>Y</td>\n",
       "      <td>Y</td>\n",
       "      <td>2333.467904</td>\n",
       "    </tr>\n",
       "    <tr>\n",
       "      <th>2</th>\n",
       "      <td>5.96</td>\n",
       "      <td>POLYGON ((640237.784 4424286.120, 640145.195 4...</td>\n",
       "      <td>0.0</td>\n",
       "      <td>0.0</td>\n",
       "      <td>37921.0</td>\n",
       "      <td>153234</td>\n",
       "      <td>EAST QUINCY</td>\n",
       "      <td>QUINCY</td>\n",
       "      <td>IL</td>\n",
       "      <td>62305</td>\n",
       "      <td>...</td>\n",
       "      <td>IMAGERY, https://www.misoenergy.org/Library/Re...</td>\n",
       "      <td>2015-04-14</td>\n",
       "      <td>IMAGERY</td>\n",
       "      <td>2017-04-27</td>\n",
       "      <td>5.0</td>\n",
       "      <td>138.0</td>\n",
       "      <td>138.0</td>\n",
       "      <td>Y</td>\n",
       "      <td>Y</td>\n",
       "      <td>2333.467904</td>\n",
       "    </tr>\n",
       "    <tr>\n",
       "      <th>3</th>\n",
       "      <td>14.19</td>\n",
       "      <td>POLYGON ((639830.289 4425240.980, 639830.166 4...</td>\n",
       "      <td>0.0</td>\n",
       "      <td>0.0</td>\n",
       "      <td>37921.0</td>\n",
       "      <td>153234</td>\n",
       "      <td>EAST QUINCY</td>\n",
       "      <td>QUINCY</td>\n",
       "      <td>IL</td>\n",
       "      <td>62305</td>\n",
       "      <td>...</td>\n",
       "      <td>IMAGERY, https://www.misoenergy.org/Library/Re...</td>\n",
       "      <td>2015-04-14</td>\n",
       "      <td>IMAGERY</td>\n",
       "      <td>2017-04-27</td>\n",
       "      <td>5.0</td>\n",
       "      <td>138.0</td>\n",
       "      <td>138.0</td>\n",
       "      <td>Y</td>\n",
       "      <td>Y</td>\n",
       "      <td>2333.467904</td>\n",
       "    </tr>\n",
       "    <tr>\n",
       "      <th>4</th>\n",
       "      <td>3.20</td>\n",
       "      <td>POLYGON ((639828.361 4425543.057, 639827.354 4...</td>\n",
       "      <td>0.0</td>\n",
       "      <td>0.0</td>\n",
       "      <td>37921.0</td>\n",
       "      <td>153234</td>\n",
       "      <td>EAST QUINCY</td>\n",
       "      <td>QUINCY</td>\n",
       "      <td>IL</td>\n",
       "      <td>62305</td>\n",
       "      <td>...</td>\n",
       "      <td>IMAGERY, https://www.misoenergy.org/Library/Re...</td>\n",
       "      <td>2015-04-14</td>\n",
       "      <td>IMAGERY</td>\n",
       "      <td>2017-04-27</td>\n",
       "      <td>5.0</td>\n",
       "      <td>138.0</td>\n",
       "      <td>138.0</td>\n",
       "      <td>Y</td>\n",
       "      <td>Y</td>\n",
       "      <td>2333.467904</td>\n",
       "    </tr>\n",
       "    <tr>\n",
       "      <th>...</th>\n",
       "      <td>...</td>\n",
       "      <td>...</td>\n",
       "      <td>...</td>\n",
       "      <td>...</td>\n",
       "      <td>...</td>\n",
       "      <td>...</td>\n",
       "      <td>...</td>\n",
       "      <td>...</td>\n",
       "      <td>...</td>\n",
       "      <td>...</td>\n",
       "      <td>...</td>\n",
       "      <td>...</td>\n",
       "      <td>...</td>\n",
       "      <td>...</td>\n",
       "      <td>...</td>\n",
       "      <td>...</td>\n",
       "      <td>...</td>\n",
       "      <td>...</td>\n",
       "      <td>...</td>\n",
       "      <td>...</td>\n",
       "      <td>...</td>\n",
       "    </tr>\n",
       "    <tr>\n",
       "      <th>348542</th>\n",
       "      <td>2.85</td>\n",
       "      <td>POLYGON ((833352.351 4466098.619, 833440.776 4...</td>\n",
       "      <td>108.0</td>\n",
       "      <td>279.0</td>\n",
       "      <td>13096.0</td>\n",
       "      <td>123352</td>\n",
       "      <td>UNKNOWN123352</td>\n",
       "      <td>HEYWORTH</td>\n",
       "      <td>IL</td>\n",
       "      <td>61745</td>\n",
       "      <td>...</td>\n",
       "      <td>IMAGERY</td>\n",
       "      <td>2015-05-01</td>\n",
       "      <td>IMAGERY</td>\n",
       "      <td>2015-05-01</td>\n",
       "      <td>0.0</td>\n",
       "      <td>-999999.0</td>\n",
       "      <td>-999999.0</td>\n",
       "      <td>N</td>\n",
       "      <td>N</td>\n",
       "      <td>12605.551344</td>\n",
       "    </tr>\n",
       "    <tr>\n",
       "      <th>348543</th>\n",
       "      <td>18.32</td>\n",
       "      <td>POLYGON ((832665.107 4465786.774, 832679.574 4...</td>\n",
       "      <td>108.0</td>\n",
       "      <td>279.0</td>\n",
       "      <td>13096.0</td>\n",
       "      <td>123352</td>\n",
       "      <td>UNKNOWN123352</td>\n",
       "      <td>HEYWORTH</td>\n",
       "      <td>IL</td>\n",
       "      <td>61745</td>\n",
       "      <td>...</td>\n",
       "      <td>IMAGERY</td>\n",
       "      <td>2015-05-01</td>\n",
       "      <td>IMAGERY</td>\n",
       "      <td>2015-05-01</td>\n",
       "      <td>0.0</td>\n",
       "      <td>-999999.0</td>\n",
       "      <td>-999999.0</td>\n",
       "      <td>N</td>\n",
       "      <td>N</td>\n",
       "      <td>12605.551344</td>\n",
       "    </tr>\n",
       "    <tr>\n",
       "      <th>348544</th>\n",
       "      <td>208.58</td>\n",
       "      <td>POLYGON ((833254.713 4465956.729, 833231.319 4...</td>\n",
       "      <td>108.0</td>\n",
       "      <td>279.0</td>\n",
       "      <td>13096.0</td>\n",
       "      <td>123352</td>\n",
       "      <td>UNKNOWN123352</td>\n",
       "      <td>HEYWORTH</td>\n",
       "      <td>IL</td>\n",
       "      <td>61745</td>\n",
       "      <td>...</td>\n",
       "      <td>IMAGERY</td>\n",
       "      <td>2015-05-01</td>\n",
       "      <td>IMAGERY</td>\n",
       "      <td>2015-05-01</td>\n",
       "      <td>0.0</td>\n",
       "      <td>-999999.0</td>\n",
       "      <td>-999999.0</td>\n",
       "      <td>N</td>\n",
       "      <td>N</td>\n",
       "      <td>12605.551344</td>\n",
       "    </tr>\n",
       "    <tr>\n",
       "      <th>348545</th>\n",
       "      <td>3.74</td>\n",
       "      <td>POLYGON ((801214.438 4544736.289, 801215.182 4...</td>\n",
       "      <td>121.0</td>\n",
       "      <td>301.0</td>\n",
       "      <td>41585.0</td>\n",
       "      <td>157085</td>\n",
       "      <td>UNKNOWN157085</td>\n",
       "      <td>SPARLAND</td>\n",
       "      <td>IL</td>\n",
       "      <td>61565</td>\n",
       "      <td>...</td>\n",
       "      <td>IMAGERY</td>\n",
       "      <td>2018-06-01</td>\n",
       "      <td>IMAGERY</td>\n",
       "      <td>2018-06-01</td>\n",
       "      <td>0.0</td>\n",
       "      <td>-999999.0</td>\n",
       "      <td>-999999.0</td>\n",
       "      <td>N</td>\n",
       "      <td>N</td>\n",
       "      <td>5928.283603</td>\n",
       "    </tr>\n",
       "    <tr>\n",
       "      <th>348546</th>\n",
       "      <td>183.16</td>\n",
       "      <td>POLYGON ((801231.695 4544374.605, 801218.352 4...</td>\n",
       "      <td>121.0</td>\n",
       "      <td>301.0</td>\n",
       "      <td>41585.0</td>\n",
       "      <td>157085</td>\n",
       "      <td>UNKNOWN157085</td>\n",
       "      <td>SPARLAND</td>\n",
       "      <td>IL</td>\n",
       "      <td>61565</td>\n",
       "      <td>...</td>\n",
       "      <td>IMAGERY</td>\n",
       "      <td>2018-06-01</td>\n",
       "      <td>IMAGERY</td>\n",
       "      <td>2018-06-01</td>\n",
       "      <td>0.0</td>\n",
       "      <td>-999999.0</td>\n",
       "      <td>-999999.0</td>\n",
       "      <td>N</td>\n",
       "      <td>N</td>\n",
       "      <td>5928.283603</td>\n",
       "    </tr>\n",
       "  </tbody>\n",
       "</table>\n",
       "<p>348547 rows × 29 columns</p>\n",
       "</div>"
      ],
      "text/plain": [
       "        CALCACRES                                           geometry  \\\n",
       "0            6.17  POLYGON ((640750.718 4424307.671, 640757.321 4...   \n",
       "1            3.12  POLYGON ((640435.755 4426728.456, 640625.702 4...   \n",
       "2            5.96  POLYGON ((640237.784 4424286.120, 640145.195 4...   \n",
       "3           14.19  POLYGON ((639830.289 4425240.980, 639830.166 4...   \n",
       "4            3.20  POLYGON ((639828.361 4425543.057, 639827.354 4...   \n",
       "...           ...                                                ...   \n",
       "348542       2.85  POLYGON ((833352.351 4466098.619, 833440.776 4...   \n",
       "348543      18.32  POLYGON ((832665.107 4465786.774, 832679.574 4...   \n",
       "348544     208.58  POLYGON ((833254.713 4465956.729, 833231.319 4...   \n",
       "348545       3.74  POLYGON ((801214.438 4544736.289, 801215.182 4...   \n",
       "348546     183.16  POLYGON ((801231.695 4544374.605, 801218.352 4...   \n",
       "\n",
       "        index_right  index  OBJECTID      ID           NAME      CITY STATE  \\\n",
       "0               0.0    0.0   37921.0  153234    EAST QUINCY    QUINCY    IL   \n",
       "1               0.0    0.0   37921.0  153234    EAST QUINCY    QUINCY    IL   \n",
       "2               0.0    0.0   37921.0  153234    EAST QUINCY    QUINCY    IL   \n",
       "3               0.0    0.0   37921.0  153234    EAST QUINCY    QUINCY    IL   \n",
       "4               0.0    0.0   37921.0  153234    EAST QUINCY    QUINCY    IL   \n",
       "...             ...    ...       ...     ...            ...       ...   ...   \n",
       "348542        108.0  279.0   13096.0  123352  UNKNOWN123352  HEYWORTH    IL   \n",
       "348543        108.0  279.0   13096.0  123352  UNKNOWN123352  HEYWORTH    IL   \n",
       "348544        108.0  279.0   13096.0  123352  UNKNOWN123352  HEYWORTH    IL   \n",
       "348545        121.0  301.0   41585.0  157085  UNKNOWN157085  SPARLAND    IL   \n",
       "348546        121.0  301.0   41585.0  157085  UNKNOWN157085  SPARLAND    IL   \n",
       "\n",
       "          ZIP  ...                                             SOURCE  \\\n",
       "0       62305  ...  IMAGERY, https://www.misoenergy.org/Library/Re...   \n",
       "1       62305  ...  IMAGERY, https://www.misoenergy.org/Library/Re...   \n",
       "2       62305  ...  IMAGERY, https://www.misoenergy.org/Library/Re...   \n",
       "3       62305  ...  IMAGERY, https://www.misoenergy.org/Library/Re...   \n",
       "4       62305  ...  IMAGERY, https://www.misoenergy.org/Library/Re...   \n",
       "...       ...  ...                                                ...   \n",
       "348542  61745  ...                                            IMAGERY   \n",
       "348543  61745  ...                                            IMAGERY   \n",
       "348544  61745  ...                                            IMAGERY   \n",
       "348545  61565  ...                                            IMAGERY   \n",
       "348546  61565  ...                                            IMAGERY   \n",
       "\n",
       "        SOURCEDATE VAL_METHOD    VAL_DATE LINES  MAX_VOLT  MIN_VOLT MAX_INFER  \\\n",
       "0       2015-04-14    IMAGERY  2017-04-27   5.0     138.0     138.0         Y   \n",
       "1       2015-04-14    IMAGERY  2017-04-27   5.0     138.0     138.0         Y   \n",
       "2       2015-04-14    IMAGERY  2017-04-27   5.0     138.0     138.0         Y   \n",
       "3       2015-04-14    IMAGERY  2017-04-27   5.0     138.0     138.0         Y   \n",
       "4       2015-04-14    IMAGERY  2017-04-27   5.0     138.0     138.0         Y   \n",
       "...            ...        ...         ...   ...       ...       ...       ...   \n",
       "348542  2015-05-01    IMAGERY  2015-05-01   0.0 -999999.0 -999999.0         N   \n",
       "348543  2015-05-01    IMAGERY  2015-05-01   0.0 -999999.0 -999999.0         N   \n",
       "348544  2015-05-01    IMAGERY  2015-05-01   0.0 -999999.0 -999999.0         N   \n",
       "348545  2018-06-01    IMAGERY  2018-06-01   0.0 -999999.0 -999999.0         N   \n",
       "348546  2018-06-01    IMAGERY  2018-06-01   0.0 -999999.0 -999999.0         N   \n",
       "\n",
       "       MIN_INFER      max_dist  \n",
       "0              Y   2333.467904  \n",
       "1              Y   2333.467904  \n",
       "2              Y   2333.467904  \n",
       "3              Y   2333.467904  \n",
       "4              Y   2333.467904  \n",
       "...          ...           ...  \n",
       "348542         N  12605.551344  \n",
       "348543         N  12605.551344  \n",
       "348544         N  12605.551344  \n",
       "348545         N   5928.283603  \n",
       "348546         N   5928.283603  \n",
       "\n",
       "[348547 rows x 29 columns]"
      ]
     },
     "execution_count": 184,
     "metadata": {},
     "output_type": "execute_result"
    }
   ],
   "source": [
    "# Calculate the distance to nearest towers. (Or to the towers in our dataset?)\n",
    "output_2.centroid"
   ]
  },
  {
   "cell_type": "code",
   "execution_count": null,
   "metadata": {},
   "outputs": [],
   "source": []
  },
  {
   "cell_type": "code",
   "execution_count": null,
   "metadata": {},
   "outputs": [],
   "source": []
  },
  {
   "cell_type": "code",
   "execution_count": null,
   "metadata": {},
   "outputs": [],
   "source": []
  },
  {
   "cell_type": "code",
   "execution_count": null,
   "metadata": {},
   "outputs": [],
   "source": []
  },
  {
   "cell_type": "code",
   "execution_count": 74,
   "metadata": {},
   "outputs": [
    {
     "name": "stderr",
     "output_type": "stream",
     "text": [
      "<ipython-input-74-d429184222b5>:1: UserWarning: Column names longer than 10 characters will be truncated when saved to ESRI Shapefile.\n",
      "  output.to_file(\"fields.shp\")\n"
     ]
    }
   ],
   "source": [
    "output.to_file(\"fields.shp\")"
   ]
  },
  {
   "cell_type": "code",
   "execution_count": null,
   "metadata": {},
   "outputs": [],
   "source": []
  }
 ],
 "metadata": {
  "kernelspec": {
   "display_name": "Python 3",
   "language": "python",
   "name": "python3"
  },
  "language_info": {
   "codemirror_mode": {
    "name": "ipython",
    "version": 3
   },
   "file_extension": ".py",
   "mimetype": "text/x-python",
   "name": "python",
   "nbconvert_exporter": "python",
   "pygments_lexer": "ipython3",
   "version": "3.8.3"
  }
 },
 "nbformat": 4,
 "nbformat_minor": 5
}
